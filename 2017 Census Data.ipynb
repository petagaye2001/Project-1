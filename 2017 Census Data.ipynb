{
 "cells": [
  {
   "cell_type": "code",
   "execution_count": 1,
   "metadata": {},
   "outputs": [],
   "source": [
    "import requests\n",
    "from config import api_key\n",
    "import pandas as pd\n",
    "import json\n",
    "import numpy as np\n",
    "import matplotlib.pyplot as plt\n",
    "from census import Census\n",
    "from us import states\n",
    "c = Census(api_key, year=2017)"
   ]
  },
  {
   "cell_type": "code",
   "execution_count": 2,
   "metadata": {},
   "outputs": [
    {
     "name": "stdout",
     "output_type": "stream",
     "text": [
      "33120\n",
      "          Name  Household Income  Asian Amer.  Black Amer.  Hispanic Amer.  \\\n",
      "0  ZCTA5 00601           11757.0          0.0        120.0         17533.0   \n",
      "1  ZCTA5 00602           16190.0          0.0       1092.0         36736.0   \n",
      "2  ZCTA5 00603           16645.0        557.0       1985.0         48865.0   \n",
      "3  ZCTA5 00606           13387.0          0.0        160.0          6292.0   \n",
      "4  ZCTA5 00610           18741.0          0.0        845.0         26850.0   \n",
      "\n",
      "   White Amer.   Other  B05002_001E state Zipcode  \n",
      "0      13686.0  3641.0      17599.0    72   00601  \n",
      "1      26213.0  1590.0      39209.0    72   00602  \n",
      "2      35709.0  7422.0      50135.0    72   00603  \n",
      "3       3045.0  2904.0       6304.0    72   00606  \n",
      "4      17038.0  6984.0      27590.0    72   00610  \n"
     ]
    }
   ],
   "source": [
    "census_data_2017 = c.acs5.get((\"NAME\", \"B19013_001E\",\"B01001D_001E\",\"B01001B_001E\",\"B01001I_001E\", \"B01001A_001E\", \"B01001F_001E\", \"B05002_001E\"), {'for': 'zip code tabulation area:*'})\n",
    "\n",
    "census_data_2017 = pd.DataFrame(census_data_2017)\n",
    "\n",
    "census_data_2017_df = census_data_2017.rename(columns={\"B19013_001E\": \"Household Income\",\n",
    "                                                       \"B01001D_001E\": \"Asian Amer.\", \n",
    "                                                       \"B01001B_001E\": \"Black Amer.\",\n",
    "                                                       \"B01001I_001E\": \"Hispanic Amer.\",\n",
    "                                                       \"B01001A_001E\": \"White Amer.\",\n",
    "                                                       \"B01001F_001E\": \"Other\",\n",
    "                                                       \"NAME\": \"Name\", \"zip code tabulation area\": \"Zipcode\"})\n",
    "\n",
    "print(len(census_data_2017_df))\n",
    "print(census_data_2017_df.head())"
   ]
  },
  {
   "cell_type": "code",
   "execution_count": 4,
   "metadata": {},
   "outputs": [
    {
     "name": "stdout",
     "output_type": "stream",
     "text": [
      "             Name  Household Income  Asian Amer.  Black Amer.  Hispanic Amer.  \\\n",
      "1963  ZCTA5 07001           68426.0       3684.0       4650.0          3681.0   \n",
      "1964  ZCTA5 07002           56701.0       5982.0       7415.0         19751.0   \n",
      "1965  ZCTA5 07003           74961.0       4612.0       9142.0         13801.0   \n",
      "1966  ZCTA5 07004          107417.0        259.0          0.0           469.0   \n",
      "1967  ZCTA5 07005          109888.0       1314.0        299.0          1512.0   \n",
      "...           ...               ...          ...          ...             ...   \n",
      "2553  ZCTA5 08889          134387.0        499.0         10.0           289.0   \n",
      "2554  ZCTA5 08890      -666666666.0          0.0          0.0             0.0   \n",
      "2555  ZCTA5 08901           38413.0       5933.0       8192.0         30302.0   \n",
      "2556  ZCTA5 08902           88512.0      10310.0       7744.0          8162.0   \n",
      "2557  ZCTA5 08904           75913.0       1982.0       1457.0          2177.0   \n",
      "\n",
      "      White Amer.   Other  B05002_001E  state Zipcode  \n",
      "1963       8683.0   846.0      18244.0     34   07001  \n",
      "1964      43832.0  6517.0      66719.0     34   07002  \n",
      "1965      30547.0  3199.0      48892.0     34   07003  \n",
      "1966       7248.0    19.0       7584.0     34   07004  \n",
      "1967      12999.0   292.0      15350.0     34   07005  \n",
      "...           ...     ...          ...    ...     ...  \n",
      "2553       8705.0     0.0       9359.0     34   08889  \n",
      "2554          0.0     0.0          0.0     34   08890  \n",
      "2555      38471.0  4382.0      58347.0     34   08901  \n",
      "2556      21093.0  1638.0      41600.0     34   08902  \n",
      "2557       9691.0   587.0      14250.0     34   08904  \n",
      "\n",
      "[595 rows x 10 columns]\n"
     ]
    }
   ],
   "source": [
    "#New Jersey Only DataFrame for 2017\n",
    "census_data_2017_df['state'] = pd.to_numeric(census_data_2017_df['state'])\n",
    "census_data_2017_df['state'].dtype\n",
    "\n",
    "New_Jersey_Census_2017 = census_data_2017_df.loc[census_data_2017_df[\"state\"] == 34,:]\n",
    "print(New_Jersey_Census_2017)"
   ]
  },
  {
   "cell_type": "code",
   "execution_count": 6,
   "metadata": {},
   "outputs": [],
   "source": [
    "Updated_New_Jersey_Census_2017 = New_Jersey_Census_2017.drop([\"B05002_001E\"], axis=1)"
   ]
  },
  {
   "cell_type": "code",
   "execution_count": 7,
   "metadata": {},
   "outputs": [],
   "source": [
    "Updated_New_Jersey_Census_2017.to_csv(\"../Project-1/2017CensusData.csv\")"
   ]
  },
  {
   "cell_type": "code",
   "execution_count": null,
   "metadata": {},
   "outputs": [],
   "source": []
  },
  {
   "cell_type": "code",
   "execution_count": null,
   "metadata": {},
   "outputs": [],
   "source": []
  }
 ],
 "metadata": {
  "kernelspec": {
   "display_name": "Python 3",
   "language": "python",
   "name": "python3"
  },
  "language_info": {
   "codemirror_mode": {
    "name": "ipython",
    "version": 3
   },
   "file_extension": ".py",
   "mimetype": "text/x-python",
   "name": "python",
   "nbconvert_exporter": "python",
   "pygments_lexer": "ipython3",
   "version": "3.6.10"
  }
 },
 "nbformat": 4,
 "nbformat_minor": 4
}
