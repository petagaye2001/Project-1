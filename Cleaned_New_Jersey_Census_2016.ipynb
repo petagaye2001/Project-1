{
 "cells": [
  {
   "cell_type": "code",
   "execution_count": 17,
   "metadata": {},
   "outputs": [],
   "source": [
    "# Import dependencies and API key\n",
    "\n",
    "import numpy as np\n",
    "\n",
    "import pandas as pd\n",
    "\n",
    "import matplotlib.pyplot as plt\n",
    "\n",
    "import requests\n",
    "\n",
    "from census import Census\n",
    "\n",
    "from us import states\n",
    "\n",
    "from config import api_key\n",
    "\n",
    "c = Census(api_key, year=2016)"
   ]
  },
  {
   "cell_type": "code",
   "execution_count": 24,
   "metadata": {},
   "outputs": [
    {
     "name": "stdout",
     "output_type": "stream",
     "text": [
      "33120\n",
      "              Name  Household Income  Asian American  Black American  \\\n",
      "0      ZCTA5 05762           58558.0            19.0             0.0   \n",
      "1      ZCTA5 05763           54968.0             4.0             6.0   \n",
      "2      ZCTA5 05764           44468.0            10.0            41.0   \n",
      "3      ZCTA5 05765           56771.0             3.0            18.0   \n",
      "4      ZCTA5 05766           52250.0             0.0             0.0   \n",
      "...            ...               ...             ...             ...   \n",
      "33115  ZCTA5 99518           82119.0          1084.0           163.0   \n",
      "33116  ZCTA5 99519      -666666666.0             6.0             0.0   \n",
      "33117  ZCTA5 99540          100755.0             0.0             0.0   \n",
      "33118  ZCTA5 99546           75000.0            11.0             0.0   \n",
      "33119  ZCTA5 99547           57500.0             9.0             0.0   \n",
      "\n",
      "       Hispanic American  White American  Other state Zip Code  \n",
      "0                    0.0           467.0    0.0    50    05762  \n",
      "1                   15.0          2686.0    0.0    50    05763  \n",
      "2                   76.0          3204.0   31.0    50    05764  \n",
      "3                   21.0          1599.0    0.0    50    05765  \n",
      "4                    0.0           576.0    0.0    50    05766  \n",
      "...                  ...             ...    ...   ...      ...  \n",
      "33115             1536.0          6493.0  200.0    02    99518  \n",
      "33116               21.0           469.0   10.0    02    99519  \n",
      "33117                0.0           244.0    0.0    02    99540  \n",
      "33118               37.0            50.0    6.0    02    99546  \n",
      "33119                0.0             8.0    0.0    02    99547  \n",
      "\n",
      "[33120 rows x 9 columns]\n"
     ]
    }
   ],
   "source": [
    "# Extract data with variable keys\n",
    "\n",
    "census_2016 = c.acs5.get((\"NAME\",\n",
    "                          \"B19013_001E\",\n",
    "                          \"B01001D_001E\",\n",
    "                          \"B01001B_001E\",\n",
    "                          \"B01001I_001E\",\n",
    "                          \"B01001A_001E\",\n",
    "                          \"B01001F_001E\"),\n",
    "                         {\"for\": \"zip code tabulation area:*\"})\n",
    "\n",
    "census_2016 = pd.DataFrame(census_2016)\n",
    "\n",
    "census_2016_df = census_2016.rename(columns = {\"NAME\": \"Name\",\n",
    "                                               \"B19013_001E\": \"Household Income\",\n",
    "                                               \"B01001D_001E\": \"Asian American\",\n",
    "                                               \"B01001B_001E\": \"Black American\",\n",
    "                                               \"B01001I_001E\": \"Hispanic American\",\n",
    "                                               \"B01001A_001E\": \"White American\",\n",
    "                                               \"B01001F_001E\": \"Other\",\n",
    "                                               \"zip code tabulation area\": \"Zip Code\"})\n",
    "\n",
    "print(len(census_2016_df))\n",
    "\n",
    "print(census_2016_df)"
   ]
  },
  {
   "cell_type": "code",
   "execution_count": 19,
   "metadata": {},
   "outputs": [
    {
     "name": "stdout",
     "output_type": "stream",
     "text": [
      "48    1935\n",
      "42    1798\n",
      "36    1794\n",
      "06    1764\n",
      "17    1383\n",
      "39    1197\n",
      "29    1024\n",
      "26     987\n",
      "12     983\n",
      "19     934\n",
      "51     896\n",
      "27     885\n",
      "37     808\n",
      "18     775\n",
      "55     774\n",
      "21     769\n",
      "13     735\n",
      "54     706\n",
      "20     698\n",
      "40     648\n",
      "01     642\n",
      "47     628\n",
      "53     598\n",
      "34     595\n",
      "05     591\n",
      "31     581\n",
      "25     537\n",
      "08     525\n",
      "22     515\n",
      "24     468\n",
      "23     432\n",
      "45     424\n",
      "28     423\n",
      "41     416\n",
      "04     405\n",
      "38     382\n",
      "46     372\n",
      "35     368\n",
      "30     361\n",
      "49     288\n",
      "09     282\n",
      "16     278\n",
      "50     255\n",
      "33     248\n",
      "02     238\n",
      "56     178\n",
      "32     175\n",
      "72     131\n",
      "15      94\n",
      "44      77\n",
      "10      67\n",
      "11      53\n",
      "Name: state, dtype: int64\n"
     ]
    }
   ],
   "source": [
    "# Count by state \n",
    "\n",
    "print(census_2016_df[\"state\"].value_counts())"
   ]
  },
  {
   "cell_type": "code",
   "execution_count": 20,
   "metadata": {},
   "outputs": [
    {
     "name": "stdout",
     "output_type": "stream",
     "text": [
      "Name                 33120\n",
      "Household Income     33120\n",
      "Asian American       33120\n",
      "Black American       33120\n",
      "Hispanic American    33120\n",
      "White American       33120\n",
      "Other                33120\n",
      "state                33120\n",
      "Zip Code             33120\n",
      "dtype: int64\n"
     ]
    }
   ],
   "source": [
    "print(census_2016_df.count())"
   ]
  },
  {
   "cell_type": "code",
   "execution_count": 21,
   "metadata": {},
   "outputs": [
    {
     "data": {
      "text/plain": [
       "dtype('int64')"
      ]
     },
     "execution_count": 21,
     "metadata": {},
     "output_type": "execute_result"
    }
   ],
   "source": [
    "# Create state data type for .loc method\n",
    "\n",
    "census_2016_df[\"state\"] = pd.to_numeric(census_2016_df[\"state\"])\n",
    "\n",
    "census_2016_df[\"state\"].dtype"
   ]
  },
  {
   "cell_type": "code",
   "execution_count": 22,
   "metadata": {},
   "outputs": [
    {
     "name": "stdout",
     "output_type": "stream",
     "text": [
      "              Name  Household Income  Asian American  Black American  \\\n",
      "15064  ZCTA5 07504           50203.0             8.0          6429.0   \n",
      "15065  ZCTA5 07505           28426.0            61.0          1039.0   \n",
      "15066  ZCTA5 07506           89472.0           216.0           299.0   \n",
      "15067  ZCTA5 07508           75578.0           992.0          1863.0   \n",
      "15068  ZCTA5 07512           96573.0           695.0           422.0   \n",
      "...            ...               ...             ...             ...   \n",
      "29950  ZCTA5 07481          143750.0           857.0            66.0   \n",
      "29951  ZCTA5 07495      -666666666.0             0.0             0.0   \n",
      "29952  ZCTA5 07501           25379.0           676.0          9226.0   \n",
      "29953  ZCTA5 07502           54840.0          2562.0          3603.0   \n",
      "29954  ZCTA5 07503           34867.0           606.0          1055.0   \n",
      "\n",
      "       Hispanic American  White American    Other  state Zip Code  \n",
      "15064             5587.0          2670.0   1946.0     34    07504  \n",
      "15065             1676.0           862.0    805.0     34    07505  \n",
      "15066             3869.0         17369.0    702.0     34    07506  \n",
      "15067             7521.0         16921.0   2136.0     34    07508  \n",
      "15068             1603.0          9115.0    442.0     34    07512  \n",
      "...                  ...             ...      ...    ...      ...  \n",
      "29950              799.0         15911.0     67.0     34    07481  \n",
      "29951                0.0             0.0      0.0     34    07495  \n",
      "29952            20727.0          8825.0  11691.0     34    07501  \n",
      "29953             9684.0          6965.0   2480.0     34    07502  \n",
      "29954            11533.0          9890.0   5781.0     34    07503  \n",
      "\n",
      "[595 rows x 9 columns]\n"
     ]
    }
   ],
   "source": [
    "# Data frame for 2016 New Jersey data only\n",
    "\n",
    "census_2016_new_jersey = census_2016_df.loc[census_2016_df[\"state\"] == 34,:]\n",
    "\n",
    "print(census_2016_new_jersey)"
   ]
  },
  {
   "cell_type": "code",
   "execution_count": 26,
   "metadata": {},
   "outputs": [],
   "source": [
    "census_2016_new_jersey.to_csv(\"../Project1/NewJerseyCensus2016.csv\")"
   ]
  }
 ],
 "metadata": {
  "kernelspec": {
   "display_name": "Python 3",
   "language": "python",
   "name": "python3"
  },
  "language_info": {
   "codemirror_mode": {
    "name": "ipython",
    "version": 3
   },
   "file_extension": ".py",
   "mimetype": "text/x-python",
   "name": "python",
   "nbconvert_exporter": "python",
   "pygments_lexer": "ipython3",
   "version": "3.6.10"
  }
 },
 "nbformat": 4,
 "nbformat_minor": 4
}
