{
 "cells": [
  {
   "cell_type": "code",
   "execution_count": 1,
   "metadata": {},
   "outputs": [],
   "source": [
    "# Dependencies\n",
    "import numpy as np\n",
    "import pandas as pd\n",
    "import matplotlib.pyplot as plt\n",
    "import requests\n",
    "from census import Census\n",
    "from us import states\n",
    "\n",
    "# Census API Key\n",
    "from config import api_key\n",
    "c = Census(api_key, year=2018)"
   ]
  },
  {
   "cell_type": "code",
   "execution_count": 2,
   "metadata": {},
   "outputs": [
    {
     "name": "stdout",
     "output_type": "stream",
     "text": [
      "33120\n",
      "          Name  Household Income  Asian Amer.  Black Amer.  Hispanic Amer.  \\\n",
      "0  ZCTA5 00601           13092.0          3.0        145.0         17184.0   \n",
      "1  ZCTA5 00602           16358.0          0.0       1070.0         35925.0   \n",
      "2  ZCTA5 00603           16603.0        364.0       1930.0         47551.0   \n",
      "3  ZCTA5 00606           12832.0          0.0        149.0          6427.0   \n",
      "4  ZCTA5 00610           19309.0          0.0        696.0         26043.0   \n",
      "\n",
      "   White Amer.   Other  B05002_001E state Zipcode  \n",
      "0      13026.0  3929.0      17242.0    72   00601  \n",
      "1      30529.0  1540.0      38442.0    72   00602  \n",
      "2      37330.0  8007.0      48814.0    72   00603  \n",
      "3       2627.0  3518.0       6437.0    72   00606  \n",
      "4      20451.0  2871.0      27073.0    72   00610  \n"
     ]
    }
   ],
   "source": [
    "#Use variable keys to extract data for api\n",
    "\n",
    "census_data_2018 = c.acs5.get((\"NAME\", \"B19013_001E\",\"B01001D_001E\",\"B01001B_001E\",\"B01001I_001E\", \"B01001A_001E\", \"B01001F_001E\", \"B05002_001E\"), {'for': 'zip code tabulation area:*'})\n",
    "\n",
    "census_data_2018 = pd.DataFrame(census_data_2018)\n",
    "\n",
    "census_data_2018_df = census_data_2018.rename(columns={\"B19013_001E\": \"Household Income\",\n",
    "                                                       \"B01001D_001E\": \"Asian Amer.\", \n",
    "                                                       \"B01001B_001E\": \"Black Amer.\",\n",
    "                                                       \"B01001I_001E\": \"Hispanic Amer.\",\n",
    "                                                       \"B01001A_001E\": \"White Amer.\",\n",
    "                                                       \"B01001F_001E\": \"Other\",\n",
    "                                                       \"NAME\": \"Name\", \"zip code tabulation area\": \"Zipcode\"})\n",
    "\n",
    "print(len(census_data_2018_df))\n",
    "print(census_data_2018_df.head())"
   ]
  },
  {
   "cell_type": "code",
   "execution_count": 3,
   "metadata": {},
   "outputs": [
    {
     "name": "stdout",
     "output_type": "stream",
     "text": [
      "48    1935\n",
      "42    1798\n",
      "36    1794\n",
      "06    1764\n",
      "17    1383\n",
      "39    1197\n",
      "29    1024\n",
      "26     987\n",
      "12     983\n",
      "19     934\n",
      "51     896\n",
      "27     885\n",
      "37     808\n",
      "18     775\n",
      "55     774\n",
      "21     769\n",
      "13     735\n",
      "54     706\n",
      "20     698\n",
      "40     648\n",
      "01     642\n",
      "47     628\n",
      "53     598\n",
      "34     595\n",
      "05     591\n",
      "31     581\n",
      "25     537\n",
      "08     525\n",
      "22     515\n",
      "24     468\n",
      "23     432\n",
      "45     424\n",
      "28     423\n",
      "41     416\n",
      "04     405\n",
      "38     382\n",
      "46     372\n",
      "35     368\n",
      "30     361\n",
      "49     288\n",
      "09     282\n",
      "16     278\n",
      "50     255\n",
      "33     248\n",
      "02     238\n",
      "56     178\n",
      "32     175\n",
      "72     131\n",
      "15      94\n",
      "44      77\n",
      "10      67\n",
      "11      53\n",
      "Name: state, dtype: int64\n"
     ]
    }
   ],
   "source": [
    "# View Count of per state \n",
    "\n",
    "print(census_data_2018_df['state'].value_counts())\n"
   ]
  },
  {
   "cell_type": "code",
   "execution_count": 4,
   "metadata": {},
   "outputs": [
    {
     "name": "stdout",
     "output_type": "stream",
     "text": [
      "Name                33120\n",
      "Household Income    33085\n",
      "Asian Amer.         33120\n",
      "Black Amer.         33120\n",
      "Hispanic Amer.      33120\n",
      "White Amer.         33120\n",
      "Other               33120\n",
      "B05002_001E         33120\n",
      "state               33120\n",
      "Zipcode             33120\n",
      "dtype: int64\n"
     ]
    }
   ],
   "source": [
    "print(census_data_2018_df.count())"
   ]
  },
  {
   "cell_type": "code",
   "execution_count": 5,
   "metadata": {},
   "outputs": [
    {
     "data": {
      "text/plain": [
       "dtype('int64')"
      ]
     },
     "execution_count": 5,
     "metadata": {},
     "output_type": "execute_result"
    }
   ],
   "source": [
    "# Create A Datatype for State so that loc method can work\n",
    "\n",
    "census_data_2018_df['state'] = pd.to_numeric(census_data_2018_df['state'])\n",
    "census_data_2018_df['state'].dtype"
   ]
  },
  {
   "cell_type": "code",
   "execution_count": 6,
   "metadata": {},
   "outputs": [
    {
     "name": "stdout",
     "output_type": "stream",
     "text": [
      "             Name  Household Income  Asian Amer.  Black Amer.  Hispanic Amer.  \\\n",
      "1963  ZCTA5 07001           71943.0       3695.0       4362.0          3714.0   \n",
      "1964  ZCTA5 07002           59924.0       6435.0       7510.0         20534.0   \n",
      "1965  ZCTA5 07003           76487.0       4273.0       9744.0         13969.0   \n",
      "1966  ZCTA5 07004          117750.0        313.0          0.0           594.0   \n",
      "1967  ZCTA5 07005          111380.0       1468.0        481.0          1522.0   \n",
      "...           ...               ...          ...          ...             ...   \n",
      "2553  ZCTA5 08889          135601.0        532.0          9.0           391.0   \n",
      "2554  ZCTA5 08890      -666666666.0          0.0          0.0             0.0   \n",
      "2555  ZCTA5 08901           42185.0       6030.0       8438.0         28289.0   \n",
      "2556  ZCTA5 08902           94490.0      10053.0       8042.0          8609.0   \n",
      "2557  ZCTA5 08904           80846.0       1937.0       1412.0          2283.0   \n",
      "\n",
      "      White Amer.   Other  B05002_001E  state Zipcode  \n",
      "1963       8971.0   821.0      18307.0     34   07001  \n",
      "1964      41368.0  7325.0      65300.0     34   07002  \n",
      "1965      30144.0  3268.0      48810.0     34   07003  \n",
      "1966       6920.0    18.0       7331.0     34   07004  \n",
      "1967      12498.0   261.0      15095.0     34   07005  \n",
      "...           ...     ...          ...    ...     ...  \n",
      "2553       8852.0     0.0       9562.0     34   08889  \n",
      "2554         15.0     0.0         15.0     34   08890  \n",
      "2555      36927.0  5075.0      57659.0     34   08901  \n",
      "2556      20306.0  1762.0      41135.0     34   08902  \n",
      "2557       9437.0   629.0      13992.0     34   08904  \n",
      "\n",
      "[595 rows x 10 columns]\n"
     ]
    }
   ],
   "source": [
    "#New Jersey Only DataFrame for 2018\n",
    "\n",
    "New_Jersey_Census_2018 = census_data_2018_df.loc[census_data_2018_df[\"state\"] == 34,:]\n",
    "print(New_Jersey_Census_2018)"
   ]
  },
  {
   "cell_type": "code",
   "execution_count": 11,
   "metadata": {},
   "outputs": [
    {
     "name": "stdout",
     "output_type": "stream",
     "text": [
      "             Name  Household Income  Asian Amer.  Black Amer.  Hispanic Amer.  \\\n",
      "1963  ZCTA5 07001           71943.0       3695.0       4362.0          3714.0   \n",
      "1964  ZCTA5 07002           59924.0       6435.0       7510.0         20534.0   \n",
      "1965  ZCTA5 07003           76487.0       4273.0       9744.0         13969.0   \n",
      "1966  ZCTA5 07004          117750.0        313.0          0.0           594.0   \n",
      "1967  ZCTA5 07005          111380.0       1468.0        481.0          1522.0   \n",
      "...           ...               ...          ...          ...             ...   \n",
      "2553  ZCTA5 08889          135601.0        532.0          9.0           391.0   \n",
      "2554  ZCTA5 08890      -666666666.0          0.0          0.0             0.0   \n",
      "2555  ZCTA5 08901           42185.0       6030.0       8438.0         28289.0   \n",
      "2556  ZCTA5 08902           94490.0      10053.0       8042.0          8609.0   \n",
      "2557  ZCTA5 08904           80846.0       1937.0       1412.0          2283.0   \n",
      "\n",
      "      White Amer.   Other  state Zipcode  \n",
      "1963       8971.0   821.0     34   07001  \n",
      "1964      41368.0  7325.0     34   07002  \n",
      "1965      30144.0  3268.0     34   07003  \n",
      "1966       6920.0    18.0     34   07004  \n",
      "1967      12498.0   261.0     34   07005  \n",
      "...           ...     ...    ...     ...  \n",
      "2553       8852.0     0.0     34   08889  \n",
      "2554         15.0     0.0     34   08890  \n",
      "2555      36927.0  5075.0     34   08901  \n",
      "2556      20306.0  1762.0     34   08902  \n",
      "2557       9437.0   629.0     34   08904  \n",
      "\n",
      "[595 rows x 9 columns]\n"
     ]
    }
   ],
   "source": [
    "#Dropping Wrong Column - Accidentally added another column so it needs to be removed ...\n",
    "\n",
    "#Below is the dataframe for New Jersey 2018\n",
    "\n",
    "Updated_New_Jersey_Census_2018 = New_Jersey_Census_2018.drop([\"B05002_001E\"], axis=1)\n",
    "\n",
    "print(Updated_New_Jersey_Census_2018)"
   ]
  },
  {
   "cell_type": "code",
   "execution_count": 14,
   "metadata": {},
   "outputs": [],
   "source": [
    "Updated_New_Jersey_Census_2018.to_csv(\"../Untitled Folder/2018CensusData.csv\")"
   ]
  },
  {
   "cell_type": "code",
   "execution_count": null,
   "metadata": {},
   "outputs": [],
   "source": []
  }
 ],
 "metadata": {
  "kernelspec": {
   "display_name": "Python 3",
   "language": "python",
   "name": "python3"
  },
  "language_info": {
   "codemirror_mode": {
    "name": "ipython",
    "version": 3
   },
   "file_extension": ".py",
   "mimetype": "text/x-python",
   "name": "python",
   "nbconvert_exporter": "python",
   "pygments_lexer": "ipython3",
   "version": "3.6.10"
  }
 },
 "nbformat": 4,
 "nbformat_minor": 4
}
