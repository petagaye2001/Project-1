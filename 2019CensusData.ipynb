{
 "cells": [
  {
   "cell_type": "code",
   "execution_count": 1,
   "metadata": {},
   "outputs": [],
   "source": [
    "#api_key = \"e99a066fb1a0b60b7554c1539489d91a1f0c6772\"\n",
    "import pandas as pd\n",
    "import matplotlib.pyplot as pyplot\n",
    "import numpy as np\n",
    "import requests\n",
    "from census import Census\n",
    "\n",
    "from config import api_key\n",
    "c = Census(api_key, year=2019)"
   ]
  },
  {
   "cell_type": "code",
   "execution_count": 2,
   "metadata": {},
   "outputs": [
    {
     "name": "stdout",
     "output_type": "stream",
     "text": [
      "33120\n",
      "          Name  Household Income  Asian Amer.  Black Amer.  Hispanic Amer.  \\\n",
      "0  ZCTA5 00601           14361.0          2.0        182.0         17052.0   \n",
      "1  ZCTA5 00602           16807.0          0.0        908.0         34908.0   \n",
      "2  ZCTA5 00603           16049.0        108.0       1514.0         45842.0   \n",
      "3  ZCTA5 00606           12119.0          0.0         92.0          6338.0   \n",
      "4  ZCTA5 00610           19898.0          0.0        461.0         25368.0   \n",
      "\n",
      "   White Amer.   Other state Zipcode  \n",
      "0      12616.0  4045.0    72   00601  \n",
      "1      32179.0  1194.0    72   00602  \n",
      "2      37359.0  7342.0    72   00603  \n",
      "3       2910.0  3299.0    72   00606  \n",
      "4      22042.0  2095.0    72   00610  \n"
     ]
    }
   ],
   "source": [
    "census_data_2019 = c.acs5.get((\"NAME\", \"B19013_001E\",\"B01001D_001E\",\"B01001B_001E\",\"B01001I_001E\", \"B01001A_001E\", \"B01001F_001E\"), {'for': 'zip code tabulation area:*'})\n",
    "\n",
    "census_data_2019 = pd.DataFrame(census_data_2019)\n",
    "\n",
    "census_data_2019_df = census_data_2019.rename(columns={\"B19013_001E\": \"Household Income\",\n",
    "                                                       \"B01001D_001E\": \"Asian Amer.\", \n",
    "                                                       \"B01001B_001E\": \"Black Amer.\",\n",
    "                                                       \"B01001I_001E\": \"Hispanic Amer.\",\n",
    "                                                       \"B01001A_001E\": \"White Amer.\",\n",
    "                                                       \"B01001F_001E\": \"Other\",\n",
    "                                                       \"NAME\": \"Name\", \"zip code tabulation area\": \"Zipcode\"})\n",
    "\n",
    "print(len(census_data_2019_df)) \n",
    "print(census_data_2019_df.head())"
   ]
  },
  {
   "cell_type": "code",
   "execution_count": 3,
   "metadata": {},
   "outputs": [
    {
     "name": "stdout",
     "output_type": "stream",
     "text": [
      "48    1935\n",
      "42    1798\n",
      "36    1794\n",
      "06    1764\n",
      "17    1383\n",
      "39    1197\n",
      "29    1024\n",
      "26     987\n",
      "12     983\n",
      "19     934\n",
      "51     896\n",
      "27     885\n",
      "37     808\n",
      "18     775\n",
      "55     774\n",
      "21     769\n",
      "13     735\n",
      "54     706\n",
      "20     698\n",
      "40     648\n",
      "01     642\n",
      "47     628\n",
      "53     598\n",
      "34     595\n",
      "05     591\n",
      "31     581\n",
      "25     537\n",
      "08     525\n",
      "22     515\n",
      "24     468\n",
      "23     432\n",
      "45     424\n",
      "28     423\n",
      "41     416\n",
      "04     405\n",
      "38     382\n",
      "46     372\n",
      "35     368\n",
      "30     361\n",
      "49     288\n",
      "09     282\n",
      "16     278\n",
      "50     255\n",
      "33     248\n",
      "02     238\n",
      "56     178\n",
      "32     175\n",
      "72     131\n",
      "15      94\n",
      "44      77\n",
      "10      67\n",
      "11      53\n",
      "Name: state, dtype: int64\n"
     ]
    }
   ],
   "source": [
    "print(census_data_2019_df['state'].value_counts())"
   ]
  },
  {
   "cell_type": "code",
   "execution_count": 4,
   "metadata": {},
   "outputs": [
    {
     "name": "stdout",
     "output_type": "stream",
     "text": [
      "Name                33120\n",
      "Household Income    33120\n",
      "Asian Amer.         33120\n",
      "Black Amer.         33120\n",
      "Hispanic Amer.      33120\n",
      "White Amer.         33120\n",
      "Other               33120\n",
      "state               33120\n",
      "Zipcode             33120\n",
      "dtype: int64\n"
     ]
    }
   ],
   "source": [
    "print(census_data_2019_df.count())"
   ]
  },
  {
   "cell_type": "code",
   "execution_count": 5,
   "metadata": {},
   "outputs": [
    {
     "data": {
      "text/plain": [
       "dtype('int64')"
      ]
     },
     "execution_count": 5,
     "metadata": {},
     "output_type": "execute_result"
    }
   ],
   "source": [
    "census_data_2019_df['state'] = pd.to_numeric(census_data_2019_df['state'])\n",
    "census_data_2019_df['state'].dtype"
   ]
  },
  {
   "cell_type": "code",
   "execution_count": 6,
   "metadata": {},
   "outputs": [
    {
     "name": "stdout",
     "output_type": "stream",
     "text": [
      "             Name  Household Income  Asian Amer.  Black Amer.  Hispanic Amer.  \\\n",
      "1963  ZCTA5 07001           69849.0       3542.0       4058.0          3638.0   \n",
      "1964  ZCTA5 07002           63947.0       6466.0       6888.0         21788.0   \n",
      "1965  ZCTA5 07003           78034.0       4323.0       9923.0         14494.0   \n",
      "1966  ZCTA5 07004          122063.0        271.0          0.0           817.0   \n",
      "1967  ZCTA5 07005          111946.0       1415.0        480.0          1449.0   \n",
      "...           ...               ...          ...          ...             ...   \n",
      "2553  ZCTA5 08889          128413.0        487.0          8.0           768.0   \n",
      "2554  ZCTA5 08890      -666666666.0          0.0          0.0             0.0   \n",
      "2555  ZCTA5 08901           43783.0       5966.0       9321.0         26390.0   \n",
      "2556  ZCTA5 08902           96389.0       9987.0       8303.0          7943.0   \n",
      "2557  ZCTA5 08904           81402.0       1926.0       1668.0          2046.0   \n",
      "\n",
      "      White Amer.   Other  state Zipcode  \n",
      "1963       9250.0   624.0     34   07001  \n",
      "1964      40770.0  7767.0     34   07002  \n",
      "1965      30152.0  3262.0     34   07003  \n",
      "1966       7005.0     0.0     34   07004  \n",
      "1967      12680.0   128.0     34   07005  \n",
      "...           ...     ...    ...     ...  \n",
      "2553      10063.0     0.0     34   08889  \n",
      "2554         17.0     0.0     34   08890  \n",
      "2555      36634.0  4433.0     34   08901  \n",
      "2556      18868.0  2779.0     34   08902  \n",
      "2557       9257.0   376.0     34   08904  \n",
      "\n",
      "[595 rows x 9 columns]\n"
     ]
    }
   ],
   "source": [
    "New_Jersey_Census_2019 = census_data_2019_df.loc[census_data_2019_df[\"state\"] == 34,:]\n",
    "print(New_Jersey_Census_2019)"
   ]
  },
  {
   "cell_type": "code",
   "execution_count": null,
   "metadata": {},
   "outputs": [],
   "source": [
    "Updated_New_Jersey_Census_2019.to_csv(\"../Project-1/2019CensusData.csv\")"
   ]
  },
  {
   "cell_type": "code",
   "execution_count": null,
   "metadata": {},
   "outputs": [],
   "source": []
  }
 ],
 "metadata": {
  "kernelspec": {
   "display_name": "Python 3",
   "language": "python",
   "name": "python3"
  },
  "language_info": {
   "codemirror_mode": {
    "name": "ipython",
    "version": 3
   },
   "file_extension": ".py",
   "mimetype": "text/x-python",
   "name": "python",
   "nbconvert_exporter": "python",
   "pygments_lexer": "ipython3",
   "version": "3.6.10"
  }
 },
 "nbformat": 4,
 "nbformat_minor": 5
}
